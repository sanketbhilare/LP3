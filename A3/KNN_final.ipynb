{
 "cells": [
  {
   "cell_type": "code",
   "execution_count": 1,
   "metadata": {},
   "outputs": [],
   "source": [
    "import numpy as np\n",
    "import pandas as pd\n",
    "import math"
   ]
  },
  {
   "cell_type": "code",
   "execution_count": 2,
   "metadata": {},
   "outputs": [],
   "source": [
    "def chooseK(x):\n",
    "    k=round(math.sqrt(x.shape[0]))\n",
    "    if(k%2==0):\n",
    "        k=k+1\n",
    "    return k"
   ]
  },
  {
   "cell_type": "code",
   "execution_count": 3,
   "metadata": {},
   "outputs": [],
   "source": [
    "from collections import Counter\n",
    "class KNN(object):\n",
    "\n",
    "    def __init__(self):\n",
    "        pass\n",
    "\n",
    "    def fit(self, X, y):\n",
    "        self.X_train = X\n",
    "        self.y_train = y\n",
    "\n",
    "    def predict(self, X_test, k):\n",
    "        distances = self.compute_distances(self.X_train, X_test)\n",
    "        results = []\n",
    "        for i in range(len(distances)):\n",
    "            votes = []\n",
    "            for j in range(k):\n",
    "                votes.append(distances[i][j][1])\n",
    "            results.append(Counter(votes).most_common(1)[0][0])\n",
    "        \n",
    "        return results\n",
    "\n",
    "    def compute_distances(self, X, X_test):\n",
    "        distances = []\n",
    "        for i in range(X_test.shape[0]):\n",
    "            euclidean_distances = np.zeros(X.shape[0])\n",
    "            l = []\n",
    "            for j in range(len(X)):\n",
    "                euclidean_distances[j] = np.sqrt(np.sum(np.square(np.array(X_test[i]) - np.array(X[j]))))\n",
    "                l.append([euclidean_distances[j], self.y_train[j]])\n",
    "\n",
    "            distances.append(sorted(l))\n",
    "        return distances"
   ]
  },
  {
   "cell_type": "code",
   "execution_count": 4,
   "metadata": {},
   "outputs": [],
   "source": [
    "def accuracy(y_tes, y_pred):\n",
    "    correct = 0\n",
    "    for i in range(len(y_pred)):\n",
    "        if(y_tes[i] == y_pred[i]):\n",
    "            correct += 1\n",
    "    return (correct/len(y_tes))*100"
   ]
  },
  {
   "cell_type": "code",
   "execution_count": 5,
   "metadata": {},
   "outputs": [],
   "source": [
    "def run():\n",
    "\n",
    "    dataset = pd.read_csv('data.csv')\n",
    "    dataset=dataset.drop([\"Unnamed: 32\",\"id\"],axis=1)\n",
    "    dataset[\"diagnosis\"]=dataset[\"diagnosis\"].map({'B':0,'M':1}).astype(int)\n",
    "    X = np.array(dataset.iloc[:, 1:]) \n",
    "    y = np.array(dataset['diagnosis']) \n",
    "\n",
    "    from sklearn.model_selection import train_test_split\n",
    "    X_train, X_test, y_train, y_test = train_test_split(X, y, test_size = 0.25, random_state = 0)\n",
    "\n",
    "    classifier = KNN()\n",
    "    classifier.fit(X_train, y_train)\n",
    "    k=chooseK(X)\n",
    "    y_pred = classifier.predict(X_test,k)\n",
    "    print(\"Accuracy: \",accuracy(y_test, y_pred),'%')"
   ]
  },
  {
   "cell_type": "code",
   "execution_count": 6,
   "metadata": {},
   "outputs": [
    {
     "name": "stdout",
     "output_type": "stream",
     "text": [
      "Accuracy:  95.8041958041958 %\n"
     ]
    }
   ],
   "source": [
    "run()"
   ]
  },
  {
   "cell_type": "code",
   "execution_count": 7,
   "metadata": {},
   "outputs": [],
   "source": [
    "df = pd.read_csv('data.csv')\n",
    "df = df.drop([\"Unnamed: 32\",\"id\"],axis=1)\n",
    "df[\"diagnosis\"]=df[\"diagnosis\"].map({'B':0,'M':1}).astype(int)\n",
    "X = np.array(df.iloc[:, 1:]) \n",
    "y = np.array(df['diagnosis'])"
   ]
  },
  {
   "cell_type": "code",
   "execution_count": 8,
   "metadata": {},
   "outputs": [
    {
     "name": "stdout",
     "output_type": "stream",
     "text": [
      "Accuracy:  95.8041958041958 %\n"
     ]
    }
   ],
   "source": [
    "from sklearn.neighbors import KNeighborsClassifier\n",
    "from sklearn.model_selection import train_test_split\n",
    "\n",
    "X_train, X_test, y_train, y_test = train_test_split(X, y, test_size = 0.25, random_state = 0)\n",
    "k=chooseK(X)\n",
    "clf = KNeighborsClassifier(n_neighbors = k)\n",
    "clf.fit(X_train, y_train)\n",
    "y_pred = clf.predict(X_test)\n",
    "\n",
    "from sklearn import metrics\n",
    "\n",
    "print(\"Accuracy: \",metrics.accuracy_score(y_test, y_pred)*100,'%')\n",
    "   "
   ]
  },
  {
   "cell_type": "code",
   "execution_count": null,
   "metadata": {},
   "outputs": [],
   "source": []
  }
 ],
 "metadata": {
  "kernelspec": {
   "display_name": "Python 3",
   "language": "python",
   "name": "python3"
  },
  "language_info": {
   "codemirror_mode": {
    "name": "ipython",
    "version": 3
   },
   "file_extension": ".py",
   "mimetype": "text/x-python",
   "name": "python",
   "nbconvert_exporter": "python",
   "pygments_lexer": "ipython3",
   "version": "3.6.8"
  }
 },
 "nbformat": 4,
 "nbformat_minor": 2
}
